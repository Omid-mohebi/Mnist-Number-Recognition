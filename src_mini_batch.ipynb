{
 "cells": [
  {
   "cell_type": "code",
   "execution_count": 14,
   "metadata": {},
   "outputs": [],
   "source": [
    "import numpy as np\n",
    "import pandas as pd\n",
    "import matplotlib.pyplot as plt\n",
    "import math"
   ]
  },
  {
   "cell_type": "code",
   "execution_count": 2,
   "metadata": {},
   "outputs": [],
   "source": [
    "raw_data = pd.read_csv('../MNIST_CSV/mnist_train.csv')"
   ]
  },
  {
   "cell_type": "code",
   "execution_count": 3,
   "metadata": {},
   "outputs": [],
   "source": [
    "data = raw_data.to_numpy()\n",
    "np.random.shuffle(data)"
   ]
  },
  {
   "cell_type": "code",
   "execution_count": 4,
   "metadata": {},
   "outputs": [],
   "source": [
    "Y = data[1:,0]\n",
    "X = data[1:,1:]/255\n",
    "N, D = X.shape\n",
    "K = len(set(Y))\n"
   ]
  },
  {
   "cell_type": "code",
   "execution_count": 5,
   "metadata": {},
   "outputs": [],
   "source": [
    "def one_hard(local_data, n, k):\n",
    "    oh_Y = np.zeros((n, k))\n",
    "    for i in range(n):\n",
    "        oh_Y[i, local_data[i]] = 1\n",
    "    return oh_Y\n",
    "Y = one_hard(Y, N, K)"
   ]
  },
  {
   "cell_type": "code",
   "execution_count": 6,
   "metadata": {},
   "outputs": [],
   "source": [
    "W = np.random.randn(D, K)\n",
    "B = np.random.randn(K)"
   ]
  },
  {
   "cell_type": "code",
   "execution_count": 7,
   "metadata": {},
   "outputs": [],
   "source": [
    "def softmax(local_data):\n",
    "    expa = np.exp(local_data)\n",
    "    return expa/expa.sum(axis=1, keepdims=True)"
   ]
  },
  {
   "cell_type": "code",
   "execution_count": 8,
   "metadata": {},
   "outputs": [],
   "source": [
    "def forward(x, w, b):\n",
    "    return softmax(x.dot(w) + b)"
   ]
  },
  {
   "cell_type": "code",
   "execution_count": 9,
   "metadata": {},
   "outputs": [],
   "source": [
    "def loss_function(py, t):\n",
    "    epsilon = 1e-12\n",
    "    py = np.clip(py, epsilon, 1 - epsilon)\n",
    "    return -(t * np.log(py)).sum()\n"
   ]
  },
  {
   "cell_type": "code",
   "execution_count": 10,
   "metadata": {},
   "outputs": [],
   "source": [
    "def predict(py):\n",
    "    return np.argmax(py, axis=1)"
   ]
  },
  {
   "cell_type": "code",
   "execution_count": 15,
   "metadata": {},
   "outputs": [
    {
     "data": {
      "text/plain": [
       "59"
      ]
     },
     "execution_count": 15,
     "metadata": {},
     "output_type": "execute_result"
    }
   ],
   "source": [
    "batch_size = 1024\n",
    "batch = math.ceil(N/batch_size)\n",
    "batch"
   ]
  },
  {
   "cell_type": "code",
   "execution_count": 22,
   "metadata": {},
   "outputs": [],
   "source": [
    "epochs = 400\n",
    "l_rate = 0.1\n",
    "loss_rate = []\n",
    "py = np.zeros(Y.shape)\n",
    "for i in range(epochs):\n",
    "    for j in range(batch):\n",
    "        x = X[j*batch_size:(j+1)*batch_size,:]\n",
    "        y = Y[j*batch_size:(j+1)*batch_size,:]\n",
    "        py[j*batch_size:(j+1)*batch_size] = forward(x, W, B)\n",
    "        W -= l_rate * x.T.dot(py[j*batch_size:(j+1)*batch_size] - y) / len(x)\n",
    "        B -= l_rate * (py[j*batch_size:(j+1)*batch_size] - y).sum(axis=0) / len(x)\n",
    "    loss = loss_function(py[j*batch_size:(j+1)*batch_size], y)\n",
    "    loss_rate.append(loss)"
   ]
  },
  {
   "cell_type": "code",
   "execution_count": 23,
   "metadata": {},
   "outputs": [
    {
     "data": {
      "image/png": "[encoded data removed]",
      "text/plain": [
       "<Figure size 640x480 with 1 Axes>"
      ]
     },
     "metadata": {},
     "output_type": "display_data"
    }
   ],
   "source": [
    "plt.plot(loss_rate)\n",
    "plt.title('Loss over Epochs')\n",
    "plt.xlabel('Epochs')\n",
    "plt.ylabel('Loss')\n",
    "plt.show()"
   ]
  },
  {
   "cell_type": "code",
   "execution_count": 24,
   "metadata": {},
   "outputs": [
    {
     "data": {
      "text/plain": [
       "0.9112470415680523"
      ]
     },
     "execution_count": 24,
     "metadata": {},
     "output_type": "execute_result"
    }
   ],
   "source": [
    "p = predict(py)\n",
    "y = predict(Y)\n",
    "\n",
    "res = np.sum([p==y])/N\n",
    "res"
   ]
  },
  {
   "cell_type": "code",
   "execution_count": null,
   "metadata": {},
   "outputs": [],
   "source": []
  }
 ],
 "metadata": {
  "kernelspec": {
   "display_name": "Python 3",
   "language": "python",
   "name": "python3"
  },
  "language_info": {
   "codemirror_mode": {
    "name": "ipython",
    "version": 3
   },
   "file_extension": ".py",
   "mimetype": "text/x-python",
   "name": "python",
   "nbconvert_exporter": "python",
   "pygments_lexer": "ipython3",
   "version": "3.12.4"
  }
 },
 "nbformat": 4,
 "nbformat_minor": 2
}
